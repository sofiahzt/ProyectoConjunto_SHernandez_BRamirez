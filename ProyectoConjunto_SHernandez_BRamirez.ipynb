{
 "cells": [
  {
   "cell_type": "markdown",
   "id": "7f94ea3a",
   "metadata": {},
   "source": [
    "<img style=\"float: left; margin: 30px 15px 15px 15px;\" src=\"https://pngimage.net/wp-content/uploads/2018/06/logo-iteso-png-5.png\" width=\"300\" height=\"500\" /> \n",
    "    \n",
    "    \n",
    "### <font color='navy'> Simulación de procesos financieros. \n",
    "\n",
    "**Nombres:** Sofía Hernández Zatarain.\n",
    "\n",
    "**Fecha:** 09 de febrero del 2023.\n",
    "\n",
    "**Expediente** : 727151.\n",
    "**Profesor:** Oscar David Jaramillo Zuluaga.\n",
    "    \n",
    "**Link Github**: Link con el enlace del repositorio del creador del proyecto\n",
    "\n",
    "# Tarea 2: Clase 4"
   ]
  },
  {
   "cell_type": "markdown",
   "id": "798c9fb3",
   "metadata": {},
   "source": [
    "### Ejercicio 1: \n",
    "\n",
    "Imagine una rutina contable utilizada en una librería. Funciona en una lista con sublistas, que se ven así:"
   ]
  },
  {
   "cell_type": "markdown",
   "id": "a51fe737",
   "metadata": {},
   "source": [
    "| Order Number |       Book Title and Author      | Quantity | Price per Item |\n",
    "|--------------|----------------------------------|----------|----------------|\n",
    "|    34587     |    Learning Python, Mark Lutz    |     4    |      40.95     |\n",
    "|    98762     |   Programming Python, Mark Lutz  |     5    |      56.80     |\n",
    "|    77226     |   Head First Python, Paul Barry  |     3    |      32.95     |\n",
    "|    88112     |Einfuhrung in Python3, Bernd Klein|     3    |      24.99     |\n"
   ]
  },
  {
   "cell_type": "markdown",
   "id": "77629ae5",
   "metadata": {},
   "source": [
    "Escriba un programa en Python, que devuelve una lista con tuplas de tamaño 2. Cada tupla consiste en el número de pedido y el costo total del pedido. El producto debe aumentarse en 10€ si el valor de la orden es inferior a 100,00 €. \n",
    "Escribe un programa Python usando unicamente las funciones **lambda y map**.\n",
    "\n",
    "`orders = [ [\"34587\", \"Learning Python, Mark Lutz\", 4, 40.95], \n",
    "           [\"98762\", \"Programming Python, Mark Lutz\", 5, 56.80], \n",
    "           [\"77226\", \"Head First Python, Paul Barry\", 3,32.95],\n",
    "           [\"88112\", \"Einführung in Python3, Bernd Klein\", 3, 24.99]]`"
   ]
  },
  {
   "cell_type": "code",
   "execution_count": 6,
   "id": "02bdd8c4",
   "metadata": {},
   "outputs": [
    {
     "name": "stdout",
     "output_type": "stream",
     "text": [
      "[('34587', 163.8), ('98762', 284.0), ('77226', 108.85000000000001), ('88112', 84.97)]\n"
     ]
    }
   ],
   "source": [
    "# Código de solución estudiante 1 - Sofía Hernández Zatarain\n",
    "\n",
    "orders_est1 = [[\"34587\", \"Learning Python, Mark Lutz\", 4, 40.95], \n",
    "              [\"98762\", \"Programming Python, Mark Lutz\", 5, 56.80], \n",
    "              [\"77226\", \"Head First Python, Paul Barry\", 3,32.95],\n",
    "              [\"88112\", \"Einführung in Python3, Bernd Klein\", 3, 24.99]]\n",
    "\n",
    "tuplas = list(map(lambda x: (x[0], x[2] * x[3] + 10 if x[2] * x[3] < 100 else x[2] * x[3]), orders_est1))\n",
    "\n",
    "print(tuplas)"
   ]
  },
  {
   "cell_type": "code",
   "execution_count": 17,
   "id": "40f72a0f",
   "metadata": {},
   "outputs": [
    {
     "name": "stdout",
     "output_type": "stream",
     "text": [
      "[('34587', 163.8), ('98762', 284.0), ('77226', 108.85000000000001), ('88112', 84.97)]\n"
     ]
    }
   ],
   "source": [
    "# Código de solución estudiante 2 - Bernardo Ramírez\n",
    "orders1 = [ [\"34587\", \"Learning Python, Mark Lutz\", 4, 40.95], \n",
    "           [\"98762\", \"Programming Python, Mark Lutz\", 5, 56.80], \n",
    "           [\"77226\", \"Head First Python, Paul Barry\", 3,32.95],\n",
    "           [\"88112\", \"Einführung in Python3, Bernd Klein\", 3, 24.99]]\n",
    "tuplas = list(map(lambda x: (x[0], (x[2]*x[3])+10 if (x[2]*x[3]) < 100 else x[2]*x[3]), orders1))\n",
    "print(tuplas)"
   ]
  },
  {
   "cell_type": "code",
   "execution_count": null,
   "id": "a90ab7b3",
   "metadata": {},
   "outputs": [],
   "source": []
  },
  {
   "cell_type": "markdown",
   "id": "bad43e24",
   "metadata": {},
   "source": [
    "### Ejercicio 2: \n",
    "\n",
    "La misma librería, pero esta vez trabajamos en una lista diferente. Las sublistas de nuestras listas se ven así: \n",
    "[número de orden, (número de artículo, cantidad, precio por unidad), ... (número de artículo, cantidad, precio por unidad)] \n",
    "\n",
    "`orders = [[1, (\"5464\", 4, 9.99), (\"8274\",18,12.99), (\"9744\", 9, 44.95)], \n",
    "\t       [2, (\"5464\", 9, 9.99), (\"9744\", 9, 44.95)],\n",
    "\t       [3, (\"5464\", 9, 9.99), (\"88112\", 11, 24.99)],\n",
    "           [4, (\"8732\", 7, 11.99), (\"7733\",11,18.99), (\"88112\", 5, 39.95)] ]`\n",
    "\n",
    "Escriba un programa que devuelva una lista de dos tuplas que tengan la información de (número de pedido, cantidad total de pedido). Utilice la función `Reduce`. Recuerde el precio del pedido del producto debe aumentarse en 10€ si el valor de la orden es inferior a 100,00 €.\n"
   ]
  },
  {
   "cell_type": "code",
   "execution_count": 5,
   "id": "fccc635c",
   "metadata": {},
   "outputs": [],
   "source": [
    "# Librerías\n",
    "from functools import reduce"
   ]
  },
  {
   "cell_type": "code",
   "execution_count": 12,
   "id": "c1d8fab6",
   "metadata": {
    "scrolled": true
   },
   "outputs": [
    {
     "data": {
      "text/plain": [
       "[(1, 4725810.37476),\n",
       " (2, 40418.5905),\n",
       " (3, 27464.259899999997),\n",
       " (4, 3919302.280575)]"
      ]
     },
     "execution_count": 12,
     "metadata": {},
     "output_type": "execute_result"
    }
   ],
   "source": [
    "# Código de solución estudiante 1 - Sofía Hernández Zatarain\n",
    "\n",
    "orders2_est1 = [[1, (\"5464\", 4, 9.99), (\"8274\",18,12.99), (\"9744\", 9, 44.95)], \n",
    "               [2, (\"5464\", 9, 9.99), (\"9744\", 9, 44.95)],\n",
    "               [3, (\"5464\", 9, 9.99), (\"88112\", 11, 24.99)],\n",
    "               [4, (\"8732\", 7, 11.99), (\"7733\",11,18.99), (\"88112\", 5, 39.95)]]\n",
    "\n",
    "fun = lambda x: x[-1] * x[-2] + 10 if x[-1] * x[-2] < 100 else x[-1] * x[-2]\n",
    "\n",
    "tuplas2 = [(order[0], reduce(lambda x, y: x * y, [fun(i) for i in order[1: ]])) for order in orders2_est1]\n",
    "tuplas2"
   ]
  },
  {
   "cell_type": "code",
   "execution_count": 15,
   "id": "31699fa8",
   "metadata": {},
   "outputs": [
    {
     "data": {
      "text/plain": [
       "[(1, 4725810.37476),\n",
       " (2, 40418.5905),\n",
       " (3, 27464.259899999997),\n",
       " (4, 3919302.280575)]"
      ]
     },
     "execution_count": 15,
     "metadata": {},
     "output_type": "execute_result"
    }
   ],
   "source": [
    "# Código de solución estudiante 2 - Bernardo\n",
    "\n",
    "orders2 = [[1, (\"5464\", 4, 9.99), (\"8274\",18,12.99), (\"9744\", 9, 44.95)], \n",
    "           [2, (\"5464\", 9, 9.99), (\"9744\", 9, 44.95)],\n",
    "           [3, (\"5464\", 9, 9.99), (\"88112\", 11, 24.99)],\n",
    "           [4, (\"8732\", 7, 11.99), (\"7733\",11,18.99), (\"88112\", 5, 39.95)]]\n",
    "\n",
    "ped =  lambda x: x[-1] * x[-2] + 10 if x[-1] * x[-2] < 100 else x[-1] * x[-2]\n",
    "multi= lambda x,y: x*y\n",
    "tuples = [(orden[0], reduce(multi, [ped(i) for i in orden[1: ]])) for orden in orders2]\n",
    "tuples\n"
   ]
  },
  {
   "cell_type": "markdown",
   "id": "da2e320e",
   "metadata": {},
   "source": [
    "### Ejercicio 3: \n",
    "\n",
    "Resolver los anteriores ejercicios usando pandas (DataFrame)"
   ]
  },
  {
   "cell_type": "code",
   "execution_count": 24,
   "id": "636ecfea",
   "metadata": {},
   "outputs": [],
   "source": [
    "# Librerías\n",
    "\n",
    "import pandas as pd"
   ]
  },
  {
   "cell_type": "code",
   "execution_count": 30,
   "id": "ee7f1f2c",
   "metadata": {},
   "outputs": [
    {
     "data": {
      "text/html": [
       "<div>\n",
       "<style scoped>\n",
       "    .dataframe tbody tr th:only-of-type {\n",
       "        vertical-align: middle;\n",
       "    }\n",
       "\n",
       "    .dataframe tbody tr th {\n",
       "        vertical-align: top;\n",
       "    }\n",
       "\n",
       "    .dataframe thead th {\n",
       "        text-align: right;\n",
       "    }\n",
       "</style>\n",
       "<table border=\"1\" class=\"dataframe\">\n",
       "  <thead>\n",
       "    <tr style=\"text-align: right;\">\n",
       "      <th></th>\n",
       "      <th>Order Number</th>\n",
       "      <th>Price</th>\n",
       "    </tr>\n",
       "  </thead>\n",
       "  <tbody>\n",
       "    <tr>\n",
       "      <th>0</th>\n",
       "      <td>34587</td>\n",
       "      <td>163.80</td>\n",
       "    </tr>\n",
       "    <tr>\n",
       "      <th>1</th>\n",
       "      <td>98762</td>\n",
       "      <td>284.00</td>\n",
       "    </tr>\n",
       "    <tr>\n",
       "      <th>2</th>\n",
       "      <td>77226</td>\n",
       "      <td>108.85</td>\n",
       "    </tr>\n",
       "    <tr>\n",
       "      <th>3</th>\n",
       "      <td>88112</td>\n",
       "      <td>84.97</td>\n",
       "    </tr>\n",
       "  </tbody>\n",
       "</table>\n",
       "</div>"
      ],
      "text/plain": [
       "  Order Number   Price\n",
       "0        34587  163.80\n",
       "1        98762  284.00\n",
       "2        77226  108.85\n",
       "3        88112   84.97"
      ]
     },
     "execution_count": 30,
     "metadata": {},
     "output_type": "execute_result"
    }
   ],
   "source": [
    "# Código de solución estudiante 1 - Sofía Hernández Zatarain\n",
    "\n",
    "data = tuplas\n",
    "\n",
    "df_est1 = pd.DataFrame(data, columns = ['Order Number', 'Price'])\n",
    "df_est1"
   ]
  },
  {
   "cell_type": "code",
   "execution_count": 31,
   "id": "1d2f8c79",
   "metadata": {},
   "outputs": [
    {
     "data": {
      "text/html": [
       "<div>\n",
       "<style scoped>\n",
       "    .dataframe tbody tr th:only-of-type {\n",
       "        vertical-align: middle;\n",
       "    }\n",
       "\n",
       "    .dataframe tbody tr th {\n",
       "        vertical-align: top;\n",
       "    }\n",
       "\n",
       "    .dataframe thead th {\n",
       "        text-align: right;\n",
       "    }\n",
       "</style>\n",
       "<table border=\"1\" class=\"dataframe\">\n",
       "  <thead>\n",
       "    <tr style=\"text-align: right;\">\n",
       "      <th></th>\n",
       "      <th>Order Number</th>\n",
       "      <th>Price</th>\n",
       "    </tr>\n",
       "  </thead>\n",
       "  <tbody>\n",
       "    <tr>\n",
       "      <th>0</th>\n",
       "      <td>1</td>\n",
       "      <td>4.725810e+06</td>\n",
       "    </tr>\n",
       "    <tr>\n",
       "      <th>1</th>\n",
       "      <td>2</td>\n",
       "      <td>4.041859e+04</td>\n",
       "    </tr>\n",
       "    <tr>\n",
       "      <th>2</th>\n",
       "      <td>3</td>\n",
       "      <td>2.746426e+04</td>\n",
       "    </tr>\n",
       "    <tr>\n",
       "      <th>3</th>\n",
       "      <td>4</td>\n",
       "      <td>3.919302e+06</td>\n",
       "    </tr>\n",
       "  </tbody>\n",
       "</table>\n",
       "</div>"
      ],
      "text/plain": [
       "   Order Number         Price\n",
       "0             1  4.725810e+06\n",
       "1             2  4.041859e+04\n",
       "2             3  2.746426e+04\n",
       "3             4  3.919302e+06"
      ]
     },
     "execution_count": 31,
     "metadata": {},
     "output_type": "execute_result"
    }
   ],
   "source": [
    "data2 = tuplas2\n",
    "\n",
    "df2_est1 = pd.DataFrame(data2, columns = ['Order Number', 'Price'])\n",
    "df2_est1"
   ]
  },
  {
   "cell_type": "code",
   "execution_count": 24,
   "id": "da92eba2",
   "metadata": {},
   "outputs": [
    {
     "data": {
      "text/html": [
       "<div>\n",
       "<style scoped>\n",
       "    .dataframe tbody tr th:only-of-type {\n",
       "        vertical-align: middle;\n",
       "    }\n",
       "\n",
       "    .dataframe tbody tr th {\n",
       "        vertical-align: top;\n",
       "    }\n",
       "\n",
       "    .dataframe thead th {\n",
       "        text-align: right;\n",
       "    }\n",
       "</style>\n",
       "<table border=\"1\" class=\"dataframe\">\n",
       "  <thead>\n",
       "    <tr style=\"text-align: right;\">\n",
       "      <th></th>\n",
       "      <th>NumeroPedido</th>\n",
       "      <th>TotalPedido</th>\n",
       "    </tr>\n",
       "  </thead>\n",
       "  <tbody>\n",
       "    <tr>\n",
       "      <th>0</th>\n",
       "      <td>34587</td>\n",
       "      <td>163.80</td>\n",
       "    </tr>\n",
       "    <tr>\n",
       "      <th>1</th>\n",
       "      <td>98762</td>\n",
       "      <td>284.00</td>\n",
       "    </tr>\n",
       "    <tr>\n",
       "      <th>2</th>\n",
       "      <td>77226</td>\n",
       "      <td>108.85</td>\n",
       "    </tr>\n",
       "    <tr>\n",
       "      <th>3</th>\n",
       "      <td>88112</td>\n",
       "      <td>84.97</td>\n",
       "    </tr>\n",
       "  </tbody>\n",
       "</table>\n",
       "</div>"
      ],
      "text/plain": [
       "  NumeroPedido  TotalPedido\n",
       "0        34587       163.80\n",
       "1        98762       284.00\n",
       "2        77226       108.85\n",
       "3        88112        84.97"
      ]
     },
     "execution_count": 24,
     "metadata": {},
     "output_type": "execute_result"
    }
   ],
   "source": [
    "# Código de solución estudiante 2 - Bernardo\n",
    "import pandas as pd\n",
    "df1 = pd.DataFrame(orders1, columns=('numero_orden', 'titulo_autor', 'cantidad','precio'))\n",
    "dfsol1= pd.DataFrame()\n",
    "dfsol1['NumeroPedido']= df1['numero_orden']\n",
    "dfsol1['TotalPedido']= df1['cantidad']*df1['precio']\n",
    "dfsol1['TotalPedido']=dfsol1['TotalPedido'].where(dfsol1['TotalPedido']>100,dfsol1['TotalPedido']+10)\n",
    "dfsol1\n",
    "\n"
   ]
  },
  {
   "cell_type": "markdown",
   "id": "1ca0cad9",
   "metadata": {},
   "source": [
    "### Ejercicio 4:\n",
    "\n",
    "Use filter to eliminate all words that are shorter than 4 letters from a list of words\n",
    "`list='the notion of a lambda function goes all the way back to the origin of computer science'`"
   ]
  },
  {
   "cell_type": "code",
   "execution_count": 27,
   "id": "7bc06fcd",
   "metadata": {},
   "outputs": [
    {
     "data": {
      "text/plain": [
       "['notion',\n",
       " 'lambda',\n",
       " 'function',\n",
       " 'goes',\n",
       " 'back',\n",
       " 'origin',\n",
       " 'computer',\n",
       " 'science']"
      ]
     },
     "execution_count": 27,
     "metadata": {},
     "output_type": "execute_result"
    }
   ],
   "source": [
    "# Código de solución estudiante 1 - Sofía Hernández Zatarain\n",
    "\n",
    "lista_est1 = 'the notion of a lambda function goes all the way back to the origin of computer science'.split()\n",
    "\n",
    "filtro = list(filter(lambda p: len(p) >= 4, lista_est1))\n",
    "filtro"
   ]
  },
  {
   "cell_type": "code",
   "execution_count": 29,
   "id": "15c494fa",
   "metadata": {},
   "outputs": [
    {
     "data": {
      "text/plain": [
       "['notion',\n",
       " 'lambda',\n",
       " 'function',\n",
       " 'goes',\n",
       " 'back',\n",
       " 'origin',\n",
       " 'computer',\n",
       " 'science']"
      ]
     },
     "execution_count": 29,
     "metadata": {},
     "output_type": "execute_result"
    }
   ],
   "source": [
    "# Código de solución estudiante 2 - Bernardo\n",
    "liste='the notion of a lambda function goes all the way back to the origin of computer science'.split()\n",
    "filtre = list(filter(lambda x: len(x) >= 4, liste))\n",
    "filtre"
   ]
  },
  {
   "cell_type": "markdown",
   "id": "54b57309",
   "metadata": {},
   "source": [
    "### Ejercicio 5: \n",
    "\n",
    " Use filter to determine the percentage of Fahrenheit temperatures in a list are within the range 32 to 80"
   ]
  },
  {
   "cell_type": "code",
   "execution_count": 42,
   "id": "3dee2043",
   "metadata": {},
   "outputs": [],
   "source": [
    "# Librerías\n",
    "\n",
    "import numpy as np"
   ]
  },
  {
   "cell_type": "code",
   "execution_count": 53,
   "id": "621eff86",
   "metadata": {},
   "outputs": [
    {
     "data": {
      "text/plain": [
       "[35.97387961379455,\n",
       " 63.211195349983264,\n",
       " 73.90387696517755,\n",
       " 36.982512376595906,\n",
       " 68.75395211338406,\n",
       " 45.86132066984196,\n",
       " 36.58307493022292,\n",
       " 56.322083650154724,\n",
       " 33.9621930206693,\n",
       " 45.29071317816652,\n",
       " 74.86289938282341,\n",
       " 66.51091382521807,\n",
       " 46.831316244170544,\n",
       " 44.55796498523391]"
      ]
     },
     "execution_count": 53,
     "metadata": {},
     "output_type": "execute_result"
    }
   ],
   "source": [
    "# Código de solución estudiante 1 - Sofía Hernández Zatarain\n",
    "\n",
    "np.random.seed(55555)\n",
    "temperatures = np.random.uniform(25,110,30)\n",
    "\n",
    "far_est1 =list(filter(lambda x: 32 <= x <= 80, temperatures))\n",
    "far_est1"
   ]
  },
  {
   "cell_type": "code",
   "execution_count": 37,
   "id": "2cbe16ae",
   "metadata": {},
   "outputs": [
    {
     "name": "stdout",
     "output_type": "stream",
     "text": [
      "El porcentaje que hay en el rango de 32 a 80 es de: 46.666666666666664\n"
     ]
    }
   ],
   "source": [
    "# Código de solución estudiante 2 - Bernardo\n",
    "import numpy as np \n",
    "np.random.seed(55555)\n",
    "temperaturas = np.random.uniform(25,110,30)\n",
    "\n",
    "far_est1 =list(filter(lambda x: 32 <= x <= 80, temperaturas))\n",
    "far_est1\n",
    "print(f'El porcentaje que hay en el rango de 32 a 80 es de: {len(far_est1)*100/len(temperaturas)}')"
   ]
  },
  {
   "cell_type": "markdown",
   "id": "5fcc47d5",
   "metadata": {},
   "source": [
    "### Ejercicio 6:\n",
    "\n",
    "6. Use reduce to find the lower left corner (minimum x and minimum y value) for a list of point locations\n",
    "> **Hint**: Explore the command `np.minimum.reduce` [link](https://docs.scipy.org/doc/numpy/reference/generated/numpy.ufunc.reduce.html)"
   ]
  },
  {
   "cell_type": "code",
   "execution_count": 58,
   "id": "fda74431",
   "metadata": {},
   "outputs": [
    {
     "data": {
      "text/plain": [
       "array([0, 2])"
      ]
     },
     "execution_count": 58,
     "metadata": {},
     "output_type": "execute_result"
    }
   ],
   "source": [
    "# Código de solución estudiante 1 - Sofía Hernández Zatarain\n",
    "\n",
    "np.random.seed(55555)\n",
    "point_xy = np.random.randint(0,100,[30,2])\n",
    "\n",
    "minimo = np.minimum.reduce(point_xy)\n",
    "minimo"
   ]
  },
  {
   "cell_type": "code",
   "execution_count": 59,
   "id": "89a307ef",
   "metadata": {},
   "outputs": [],
   "source": [
    "# Código de solución estudiante 2 - Bernardo"
   ]
  },
  {
   "cell_type": "code",
   "execution_count": 41,
   "id": "06406d13",
   "metadata": {},
   "outputs": [
    {
     "data": {
      "text/plain": [
       "array([0, 2])"
      ]
     },
     "execution_count": 41,
     "metadata": {},
     "output_type": "execute_result"
    }
   ],
   "source": [
    "# Código de solución estudiante 2\n",
    "np.random.seed(55555)\n",
    "xy = np.random.randint(0,100,[30,2])\n",
    "\n",
    "minimo = np.minimum.reduce(xy)\n",
    "minimo"
   ]
  },
  {
   "cell_type": "code",
   "execution_count": null,
   "id": "chubby-tokyo",
   "metadata": {},
   "outputs": [],
   "source": []
  }
 ],
 "metadata": {
  "kernelspec": {
   "display_name": "Python 3",
   "language": "python",
   "name": "python3"
  },
  "language_info": {
   "codemirror_mode": {
    "name": "ipython",
    "version": 3
   },
   "file_extension": ".py",
   "mimetype": "text/x-python",
   "name": "python",
   "nbconvert_exporter": "python",
   "pygments_lexer": "ipython3",
   "version": "3.9.1"
  }
 },
 "nbformat": 4,
 "nbformat_minor": 5
}
